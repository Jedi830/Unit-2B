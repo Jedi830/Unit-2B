{
 "cells": [
  {
   "cell_type": "code",
   "execution_count": 1,
   "metadata": {},
   "outputs": [],
   "source": [
    "import gpt_2_simple as gpt2"
   ]
  },
  {
   "cell_type": "code",
   "execution_count": 2,
   "metadata": {},
   "outputs": [],
   "source": [
    "session = gpt2.start_tf_sess()"
   ]
  },
  {
   "cell_type": "code",
   "execution_count": 3,
   "metadata": {},
   "outputs": [
    {
     "name": "stderr",
     "output_type": "stream",
     "text": [
      "2023-12-19 10:33:16.650993: I tensorflow/compiler/mlir/mlir_graph_optimization_pass.cc:388] MLIR V1 optimization pass is not enabled\n"
     ]
    },
    {
     "name": "stdout",
     "output_type": "stream",
     "text": [
      "Loading checkpoint checkpoint/steam/model-68\n",
      "INFO:tensorflow:Restoring parameters from checkpoint/steam/model-68\n",
      "Loading dataset...\n"
     ]
    },
    {
     "name": "stderr",
     "output_type": "stream",
     "text": [
      "100%|██████████| 1/1 [00:00<00:00, 1459.90it/s]"
     ]
    },
    {
     "name": "stdout",
     "output_type": "stream",
     "text": [
      "dataset has 3087 tokens\n",
      "Training...\n"
     ]
    },
    {
     "name": "stderr",
     "output_type": "stream",
     "text": [
      "\n"
     ]
    },
    {
     "name": "stdout",
     "output_type": "stream",
     "text": [
      "[69 | 18.40] loss=0.10 avg=0.10\n",
      "[70 | 35.95] loss=0.03 avg=0.07\n",
      "[71 | 52.58] loss=0.03 avg=0.05\n",
      "[72 | 68.70] loss=0.03 avg=0.05\n",
      "[73 | 84.33] loss=0.02 avg=0.04\n",
      "[74 | 100.04] loss=0.03 avg=0.04\n",
      "[75 | 115.37] loss=0.02 avg=0.04\n",
      "[76 | 131.68] loss=0.03 avg=0.04\n",
      "[77 | 147.63] loss=0.02 avg=0.03\n",
      "[78 | 162.95] loss=0.03 avg=0.03\n",
      "[79 | 178.18] loss=0.03 avg=0.03\n",
      "[80 | 195.04] loss=0.02 avg=0.03\n",
      "[81 | 213.83] loss=0.02 avg=0.03\n",
      "[82 | 232.25] loss=0.02 avg=0.03\n",
      "[83 | 251.29] loss=0.02 avg=0.03\n",
      "[84 | 270.28] loss=0.02 avg=0.03\n",
      "[85 | 287.80] loss=0.04 avg=0.03\n",
      "[86 | 305.83] loss=0.03 avg=0.03\n",
      "[87 | 323.55] loss=0.04 avg=0.03\n",
      "[88 | 341.14] loss=0.02 avg=0.03\n",
      "[89 | 358.85] loss=0.05 avg=0.03\n",
      "[90 | 376.44] loss=0.02 avg=0.03\n",
      "[91 | 394.53] loss=0.02 avg=0.03\n",
      "[92 | 412.14] loss=0.02 avg=0.03\n",
      "[93 | 430.56] loss=0.01 avg=0.03\n",
      "[94 | 448.43] loss=0.01 avg=0.03\n",
      "[95 | 467.90] loss=0.02 avg=0.03\n",
      "[96 | 486.06] loss=0.02 avg=0.03\n",
      "[97 | 503.50] loss=0.01 avg=0.03\n",
      "[98 | 522.75] loss=0.01 avg=0.03\n",
      "[99 | 540.93] loss=0.01 avg=0.03\n",
      "[100 | 560.04] loss=0.02 avg=0.03\n",
      "======== SAMPLE 1 ========\n",
      " is?\n",
      "\n",
      "A: The Brooklyn STEAM Center, which is located on the Brooklyn Navy Yard, is located on the Brooklyn Navy Yard, which is geographically separate from all of our partner high schools. Scholars in our program spend half of their school day with us and the other half at their home high school. We provide complimentary yellow bus shuttles during the middle of the day for scholars to travel between the two locations to ensure punctuality and avoid harsh weather.\n",
      "\n",
      "Q: How does this impact my high school graduation requirements?\n",
      "A: Our CTE Programs actually enable scholars to reduce their required 6 credits of LOTE (Language Other Than English) to 2 credits. In addition, we provide 13 elective credits (five more than required) on a scholar’s transcript that will heighten their GPA and stand out to colleges. In addition, we offer a bonus credit course for our internship program. Furthermore, scholars qualify for advanced annotations on their high school diplomas for the successful completion of our program.\n",
      "\n",
      "Q: This sounds great, but how much does it cost?\n",
      "A: The Brooklyn STEAM Center is operated by the New York City Department of Education, therefore as a public school, there is NO cost for scholars to attend. We cover the cost of all equipment, supplies, and fees.\n",
      "\n",
      "Q: How can I find out more about the Brooklyn STEAM Center?\n",
      "A: A typical first step is to speak to your school’s counselor. Scholars accepted into the cohort will be able to visit the Brooklyn STEAM Center, once in Grade 9 and again in Grade 10, for specific guided tours. In addition, we offer exploratory opportunities for potential applicants to ‘try it on’ with our instructors during Grade 10. We also conduct a Brooklyn Navy Yard tour to meet our business partners in Grade 9. Private tours are available upon request.\n",
      "\n",
      "Q: Do I need to be a certain “type” of student to be accepted?\n",
      "A: No. We accept students from all eight of our partner schools in an unbiased manner. We do not screen based on grades, demographics, special education, or language proficiency status. If you have concerns about a specific scholar limitation and being able to participate please let us know, we believe that anyone can learn!\n",
      "\n",
      "Q: Can Grade 11/12 students apply to the Brooklyn STEAM Center? \n",
      "A: Usually, the answer to this question would be “No”. However, with proper advocacy and support from the partner high school, there may be opportunities for scholars to enter as a Year 2 student based on availability.\n",
      "\n",
      "Q: Beyond the coursework, what else does the Brooklyn STEAM Center provide?\n",
      "A: Scholars are eligible for paid internships with one of our industry partners, prior learning credits and/or priority admission with our partner colleges, access to free testing for industry-recognized credentials, and a supportive community that is built around working with our scholars for their future.\n",
      "\n",
      "Q: How/When do I decide which CTE pathway I want to study? Can I choose more than one?\n",
      "A: You will rank all of the CTE Programs on the supplemental application that you will complete near the end of Grade 10. Scholars typically attain their first choice. Unfortunately, our programs are designed for two full years of instruction, which means you can only enroll in one program.\n",
      "\n",
      "Q: How will I know that I was accepted? Is there an orientation?\n",
      "A: The scholar, identified parent/guardian, and the respective school counselor will receive an email notification that you have been accepted that will also identify the appropriate CTE program that you can either accept or decline. Accepted scholars and their families will be invited to an orientation.\n",
      "\n",
      "Q: What should I do if I have any questions or concerns?\n",
      "A: We have two recommendations, speak to your home high school counselor and/or email our admissions director.\n",
      "\n",
      "Q: Although I’ve graduated, can you still help me with “X”?\n",
      "A: We say, “Once STEAM, Always STEAM”, so please reach out and we will link you with a member of our team or a support service to assist you in solving your problem.\n",
      "\n",
      "Q: Does the Brooklyn STEAM Center offer anything for alumni?\n",
      "A: Yes, we want to hear from you and keep in touch, we host semi-annual alumni events, and share updates through our alumni email distribution group.\n",
      "\n",
      "Q: Can I keep learning with the Brooklyn STEAM Center as an alumni/adult?\n",
      "A: Certainly, check in with our alumni messages, which will include details about continuing education opportunities at STEAM and our partners.\n",
      "\n",
      "Q: What are the different pathways at the STEAM Center?\n",
      "A: Culinary Arts + Hospitality Management, Construction Technology, Cybersecurity, Design and Engineering, Film and Media, Full-Stack Development.\n",
      "\n",
      "Q:\n",
      "\n",
      "[101 | 608.50] loss=0.01 avg=0.02\n",
      "[102 | 624.32] loss=0.02 avg=0.02\n",
      "[103 | 640.54] loss=0.01 avg=0.02\n",
      "[104 | 656.86] loss=0.01 avg=0.02\n",
      "[105 | 673.58] loss=0.01 avg=0.02\n",
      "[106 | 689.66] loss=0.03 avg=0.02\n",
      "[107 | 705.45] loss=0.01 avg=0.02\n",
      "[108 | 723.61] loss=0.02 avg=0.02\n",
      "[109 | 742.14] loss=0.02 avg=0.02\n",
      "[110 | 758.09] loss=0.02 avg=0.02\n",
      "[111 | 774.19] loss=0.01 avg=0.02\n",
      "[112 | 791.85] loss=0.02 avg=0.02\n",
      "[113 | 808.19] loss=0.01 avg=0.02\n",
      "[114 | 823.65] loss=0.02 avg=0.02\n",
      "[115 | 839.34] loss=0.01 avg=0.02\n",
      "[116 | 855.66] loss=0.01 avg=0.02\n",
      "[117 | 871.41] loss=0.01 avg=0.02\n",
      "[118 | 886.60] loss=0.01 avg=0.02\n",
      "Saving checkpoint/steam/model-118\n"
     ]
    }
   ],
   "source": [
    "gpt2.finetune(session, \"steam.txt\", model_name = \"124M\", steps = 50, run_name=\"steam\")"
   ]
  }
 ],
 "metadata": {
  "kernelspec": {
   "display_name": "Python 3",
   "language": "python",
   "name": "python3"
  },
  "language_info": {
   "codemirror_mode": {
    "name": "ipython",
    "version": 3
   },
   "file_extension": ".py",
   "mimetype": "text/x-python",
   "name": "python",
   "nbconvert_exporter": "python",
   "pygments_lexer": "ipython3",
   "version": "3.10.8"
  },
  "orig_nbformat": 4,
  "vscode": {
   "interpreter": {
    "hash": "b0fa6594d8f4cbf19f97940f81e996739fb7646882a419484c72d19e05852a7e"
   }
  }
 },
 "nbformat": 4,
 "nbformat_minor": 2
}
